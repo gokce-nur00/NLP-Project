{
 "cells": [
  {
   "cell_type": "code",
   "execution_count": 1,
   "id": "1edda313",
   "metadata": {},
   "outputs": [],
   "source": [
    "import javalang\n",
    "from gensim.models import Word2Vec\n",
    "import pandas as pd\n",
    "import numpy as np\n",
    "import json\n",
    "import re"
   ]
  },
  {
   "cell_type": "code",
   "execution_count": 2,
   "id": "cc6c439c",
   "metadata": {},
   "outputs": [],
   "source": [
    "path = \"./train_data.json\"\n",
    "\n",
    "with open(path, 'r') as f:\n",
    "        json_data = json.load(f)\n"
   ]
  },
  {
   "cell_type": "code",
   "execution_count": 3,
   "id": "a3c41046",
   "metadata": {},
   "outputs": [],
   "source": [
    "data = pd.DataFrame(json_data)"
   ]
  },
  {
   "cell_type": "code",
   "execution_count": 4,
   "id": "8072ce6d",
   "metadata": {},
   "outputs": [],
   "source": [
    "data = data.rename(columns={'code': 'code', 'nl': 'comment'})"
   ]
  },
  {
   "cell_type": "code",
   "execution_count": 5,
   "id": "bd765a66",
   "metadata": {},
   "outputs": [
    {
     "name": "stdout",
     "output_type": "stream",
     "text": [
      "<class 'pandas.core.frame.DataFrame'>\n",
      "RangeIndex: 10168 entries, 0 to 10167\n",
      "Data columns (total 2 columns):\n",
      " #   Column   Non-Null Count  Dtype \n",
      "---  ------   --------------  ----- \n",
      " 0   code     10168 non-null  object\n",
      " 1   comment  10168 non-null  object\n",
      "dtypes: object(2)\n",
      "memory usage: 159.0+ KB\n"
     ]
    }
   ],
   "source": [
    "data.info()"
   ]
  },
  {
   "cell_type": "code",
   "execution_count": 6,
   "id": "b2941925",
   "metadata": {},
   "outputs": [],
   "source": [
    "data['code'] = data['code'].apply(lambda x: \"public class Main\\n{\\n\" + x + \"}\")"
   ]
  },
  {
   "cell_type": "code",
   "execution_count": 7,
   "id": "2878e56a",
   "metadata": {},
   "outputs": [],
   "source": [
    "def tokenize_code(code):\n",
    "    tokens = javalang.tokenizer.tokenize(code)\n",
    "    t = []\n",
    "    # Tüm tokenleri döngü ile dönebiliriz\n",
    "    for token in tokens:\n",
    "        t.append(token.value)\n",
    "    return t"
   ]
  },
  {
   "cell_type": "code",
   "execution_count": 8,
   "id": "45ab27ce",
   "metadata": {},
   "outputs": [],
   "source": [
    "data_token = []"
   ]
  },
  {
   "cell_type": "code",
   "execution_count": 9,
   "id": "6a6e5bb4",
   "metadata": {},
   "outputs": [],
   "source": [
    "for d in data[\"code\"]:\n",
    "    token = tokenize_code(d)\n",
    "    data_token.append(token)"
   ]
  },
  {
   "cell_type": "code",
   "execution_count": 10,
   "id": "f5089e1c",
   "metadata": {},
   "outputs": [],
   "source": [
    "model = Word2Vec(sentences=list(data_token), vector_size=100, window=10, min_count=1, workers=4)\n"
   ]
  },
  {
   "cell_type": "code",
   "execution_count": 11,
   "id": "f6402b3e",
   "metadata": {},
   "outputs": [],
   "source": [
    "# Save the trained model\n",
    "model.save(\"code_word2vec.model\")"
   ]
  },
  {
   "cell_type": "code",
   "execution_count": 12,
   "id": "4027b8fb",
   "metadata": {},
   "outputs": [],
   "source": [
    "# Load the trained model\n",
    "model = Word2Vec.load(\"code_word2vec.model\")\n"
   ]
  },
  {
   "cell_type": "code",
   "execution_count": 13,
   "id": "02c5b44e",
   "metadata": {},
   "outputs": [],
   "source": [
    "def generate_embeddings(tokens):\n",
    "    embeddings = [model.wv[token] for token in tokens]\n",
    "    return np.mean(embeddings, axis=0)"
   ]
  },
  {
   "cell_type": "code",
   "execution_count": 14,
   "id": "dd8e31c4",
   "metadata": {},
   "outputs": [],
   "source": [
    "data[\"tokens\"] = data_token"
   ]
  },
  {
   "cell_type": "code",
   "execution_count": 15,
   "id": "ce3c6c93",
   "metadata": {},
   "outputs": [],
   "source": [
    "data[\"code_embedding\"] = data[\"tokens\"].apply(generate_embeddings)"
   ]
  },
  {
   "cell_type": "code",
   "execution_count": 16,
   "id": "d55a7cc6",
   "metadata": {},
   "outputs": [],
   "source": [
    "def extract_features(code):\n",
    "    tree = javalang.parse.parse(code)\n",
    "    \n",
    "    function_calls = set()\n",
    "    parameter_count = 0\n",
    "    method_name = None\n",
    "    is_constructor = False\n",
    "    return_type = None\n",
    "    \n",
    "    for _, node in tree.filter(javalang.tree.MethodInvocation):\n",
    "        function_calls.add(node.member)\n",
    "\n",
    "    for _, node in tree.filter(javalang.tree.ConstructorDeclaration):\n",
    "        is_constructor = True\n",
    "        method_name = node.name\n",
    "        parameter_count = len(node.parameters)\n",
    "        \n",
    "    for _, node in tree.filter(javalang.tree.MethodDeclaration):\n",
    "        method_name = node.name\n",
    "        parameter_count = max(len(node.parameters), parameter_count)\n",
    "        return_type = node.return_type.name if node.return_type else None\n",
    "        \n",
    "    return function_calls, is_constructor, parameter_count, method_name, return_type"
   ]
  },
  {
   "cell_type": "code",
   "execution_count": 17,
   "id": "bbb86382",
   "metadata": {},
   "outputs": [],
   "source": [
    "def extract(code):\n",
    "    function_calls, is_constructor, parameter_count, method_name, return_type = extract_features(code)\n",
    "    return function_calls, is_constructor, parameter_count, method_name, return_type"
   ]
  },
  {
   "cell_type": "code",
   "execution_count": 18,
   "id": "c49d8ed1",
   "metadata": {},
   "outputs": [],
   "source": [
    "data[[\"function_calls\", \"is_constructor\", \"parameter_count\", \"method_name\", \"return_type\"]] = data[\"code\"].apply(\n",
    "    lambda x: pd.Series(extract(x)))\n"
   ]
  },
  {
   "cell_type": "code",
   "execution_count": 19,
   "id": "9d131dc3",
   "metadata": {},
   "outputs": [],
   "source": [
    "method_name_lengths = list(map(lambda x: len(x) if x is not None else float('nan'), data[\"method_name\"]))\n",
    "data[\"method_name_length\"] = pd.Series(method_name_lengths)"
   ]
  },
  {
   "cell_type": "code",
   "execution_count": 20,
   "id": "5894082b",
   "metadata": {},
   "outputs": [],
   "source": [
    "return_type_mapping = {'void': 0, 'int': 1, 'float': 2, 'double': 3, 'boolean': 4, 'String': 5, 'custom': 6}"
   ]
  },
  {
   "cell_type": "code",
   "execution_count": 21,
   "id": "11d680c2",
   "metadata": {},
   "outputs": [],
   "source": [
    "def map_return_type(return_type):\n",
    "    if return_type is None:\n",
    "        return None\n",
    "    elif return_type in return_type_mapping:\n",
    "        return return_type_mapping[return_type]\n",
    "    else:\n",
    "        return 7"
   ]
  },
  {
   "cell_type": "code",
   "execution_count": 22,
   "id": "58329d73",
   "metadata": {},
   "outputs": [],
   "source": [
    "data[\"return_type_numeric\"] = data['return_type'].apply(map_return_type)"
   ]
  },
  {
   "cell_type": "code",
   "execution_count": null,
   "id": "b64330ef",
   "metadata": {},
   "outputs": [],
   "source": [
    "def split_camel_case(s):\n",
    "    # CamelCase'deki büyük harflerden önce boşluk ekleyerek ayrıştırır\n",
    "    s = re.sub('([a-z0-9])([A-Z])', r'\\1 \\2', s)\n",
    "    # '_' işareti yerine boşluk ekleyerek ayrıştırır\n",
    "    s = s.replace('_', ' ')\n",
    "    # Ayrıştırılmış kelimeyi döndürür\n",
    "    return s"
   ]
  },
  {
   "cell_type": "code",
   "execution_count": null,
   "id": "cb074347",
   "metadata": {},
   "outputs": [],
   "source": [
    "data[\"method_name_string\"] = data[\"method_name\"].apply(split_camel_case)"
   ]
  },
  {
   "cell_type": "code",
   "execution_count": 23,
   "id": "90c22b1f",
   "metadata": {},
   "outputs": [
    {
     "name": "stdout",
     "output_type": "stream",
     "text": [
      "<class 'pandas.core.frame.DataFrame'>\n",
      "RangeIndex: 10168 entries, 0 to 10167\n",
      "Data columns (total 11 columns):\n",
      " #   Column               Non-Null Count  Dtype  \n",
      "---  ------               --------------  -----  \n",
      " 0   code                 10168 non-null  object \n",
      " 1   comment              10168 non-null  object \n",
      " 2   tokens               10168 non-null  object \n",
      " 3   code_embedding       10168 non-null  object \n",
      " 4   function_calls       10168 non-null  object \n",
      " 5   is_constructor       10168 non-null  bool   \n",
      " 6   parameter_count      10168 non-null  int64  \n",
      " 7   method_name          10168 non-null  object \n",
      " 8   return_type          4615 non-null   object \n",
      " 9   method_name_length   10168 non-null  int64  \n",
      " 10  return_type_numeric  4615 non-null   float64\n",
      "dtypes: bool(1), float64(1), int64(2), object(7)\n",
      "memory usage: 804.4+ KB\n"
     ]
    }
   ],
   "source": [
    "data.info()"
   ]
  },
  {
   "cell_type": "code",
   "execution_count": 24,
   "id": "c20cd1e4",
   "metadata": {},
   "outputs": [],
   "source": [
    "data.to_csv(\"./preprocessed_dataset_with_custom_embeddings.csv\", index=False)"
   ]
  }
 ],
 "metadata": {
  "kernelspec": {
   "display_name": "Python 3 (ipykernel)",
   "language": "python",
   "name": "python3"
  },
  "language_info": {
   "codemirror_mode": {
    "name": "ipython",
    "version": 3
   },
   "file_extension": ".py",
   "mimetype": "text/x-python",
   "name": "python",
   "nbconvert_exporter": "python",
   "pygments_lexer": "ipython3",
   "version": "3.9.13"
  }
 },
 "nbformat": 4,
 "nbformat_minor": 5
}
