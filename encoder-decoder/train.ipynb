{
 "cells": [
  {
   "cell_type": "code",
   "execution_count": 1,
   "id": "6494dc99",
   "metadata": {},
   "outputs": [],
   "source": [
    "import pandas as pd\n",
    "from keras.models import Model\n",
    "from keras.layers import Input, LSTM, GRU, Dense, Embedding\n",
    "from keras.preprocessing.text import Tokenizer\n",
    "from tensorflow.keras.preprocessing.sequence import pad_sequences\n",
    "from keras.utils import to_categorical\n",
    "import numpy as np\n",
    "import matplotlib.pyplot as plt\n",
    "from numpy import array\n",
    "from numpy import asarray\n",
    "from numpy import zeros"
   ]
  },
  {
   "cell_type": "code",
   "execution_count": 2,
   "id": "0a2d1a6d",
   "metadata": {},
   "outputs": [],
   "source": [
    "data = pd.read_csv('./preprocessed_dataset_with_regex.csv')"
   ]
  },
  {
   "cell_type": "code",
   "execution_count": 3,
   "id": "96ba39d5",
   "metadata": {},
   "outputs": [
    {
     "name": "stdout",
     "output_type": "stream",
     "text": [
      "<class 'pandas.core.frame.DataFrame'>\n",
      "RangeIndex: 10168 entries, 0 to 10167\n",
      "Data columns (total 12 columns):\n",
      " #   Column               Non-Null Count  Dtype  \n",
      "---  ------               --------------  -----  \n",
      " 0   code                 10168 non-null  object \n",
      " 1   comment              10168 non-null  object \n",
      " 2   tokens               10168 non-null  object \n",
      " 3   code_embedding       10168 non-null  object \n",
      " 4   function_calls       10168 non-null  object \n",
      " 5   is_constructor       10168 non-null  bool   \n",
      " 6   parameter_count      10168 non-null  int64  \n",
      " 7   method_name          10168 non-null  object \n",
      " 8   return_type          4615 non-null   object \n",
      " 9   method_name_length   10168 non-null  int64  \n",
      " 10  return_type_numeric  4615 non-null   float64\n",
      " 11  method_name_string   10168 non-null  object \n",
      "dtypes: bool(1), float64(1), int64(2), object(8)\n",
      "memory usage: 883.9+ KB\n"
     ]
    }
   ],
   "source": [
    "data.info()"
   ]
  },
  {
   "cell_type": "code",
   "execution_count": 4,
   "id": "43b84822",
   "metadata": {},
   "outputs": [],
   "source": [
    "max_word_count = data['method_name_string'].str.split().apply(len).max()"
   ]
  },
  {
   "cell_type": "code",
   "execution_count": 5,
   "id": "08a838e2",
   "metadata": {},
   "outputs": [
    {
     "data": {
      "text/plain": [
       "13"
      ]
     },
     "execution_count": 5,
     "metadata": {},
     "output_type": "execute_result"
    }
   ],
   "source": [
    "max_word_count"
   ]
  },
  {
   "cell_type": "code",
   "execution_count": 6,
   "id": "f934a99f",
   "metadata": {},
   "outputs": [],
   "source": [
    "BATCH_SIZE = 64\n",
    "EPOCHS = 5\n",
    "LSTM_NODES =64\n",
    "NUM_SENTENCES = 10168\n",
    "MAX_SENTENCE_LENGTH = 70\n",
    "MAX_NUM_WORDS = 20000\n",
    "EMBEDDING_SIZE = 100"
   ]
  },
  {
   "cell_type": "code",
   "execution_count": 7,
   "id": "dbe01491",
   "metadata": {},
   "outputs": [],
   "source": [
    "input_sentences = []\n",
    "output_sentences = []\n",
    "output_sentences_inputs = []"
   ]
  },
  {
   "cell_type": "code",
   "execution_count": 8,
   "id": "dc7bb666",
   "metadata": {},
   "outputs": [],
   "source": [
    "for line in data.comment:\n",
    "    input_sentences.append(line)"
   ]
  },
  {
   "cell_type": "code",
   "execution_count": 9,
   "id": "fedb7d10",
   "metadata": {},
   "outputs": [],
   "source": [
    "for line in data.method_name_string:\n",
    "    output_sentence = line + ' <eos>'\n",
    "    output_sentence_input = '<sos> ' + line\n",
    "\n",
    "    output_sentences.append(output_sentence)\n",
    "    output_sentences_inputs.append(output_sentence_input)"
   ]
  },
  {
   "cell_type": "code",
   "execution_count": 10,
   "id": "f80b3e50",
   "metadata": {},
   "outputs": [
    {
     "name": "stdout",
     "output_type": "stream",
     "text": [
      "num samples input: 10168\n",
      "num samples output: 10168\n",
      "num samples output input: 10168\n"
     ]
    }
   ],
   "source": [
    "print(\"num samples input:\", len(input_sentences))\n",
    "print(\"num samples output:\", len(output_sentences))\n",
    "print(\"num samples output input:\", len(output_sentences_inputs))"
   ]
  },
  {
   "cell_type": "code",
   "execution_count": 11,
   "id": "045f4eae",
   "metadata": {},
   "outputs": [
    {
     "name": "stdout",
     "output_type": "stream",
     "text": [
      "Actually proces the parsed message.\n",
      "process Message <eos>\n",
      "<sos> process Message\n"
     ]
    }
   ],
   "source": [
    "print(input_sentences[172])\n",
    "print(output_sentences[172])\n",
    "print(output_sentences_inputs[172])"
   ]
  },
  {
   "cell_type": "code",
   "execution_count": 12,
   "id": "b092a060",
   "metadata": {},
   "outputs": [],
   "source": [
    "input_tokenizer = Tokenizer(num_words=MAX_NUM_WORDS)\n",
    "input_tokenizer.fit_on_texts(data[\"code\"])\n",
    "input_integer_seq = input_tokenizer.texts_to_sequences(data[\"code\"])"
   ]
  },
  {
   "cell_type": "code",
   "execution_count": 13,
   "id": "a45eafa9",
   "metadata": {},
   "outputs": [
    {
     "name": "stdout",
     "output_type": "stream",
     "text": [
      "Total unique words in the input: 37498\n"
     ]
    }
   ],
   "source": [
    "word2idx_inputs = input_tokenizer.word_index\n",
    "print('Total unique words in the input: %s' % len(word2idx_inputs))"
   ]
  },
  {
   "cell_type": "code",
   "execution_count": 14,
   "id": "9cf7d04d",
   "metadata": {},
   "outputs": [
    {
     "name": "stdout",
     "output_type": "stream",
     "text": [
      "Length of longest sentence in input: 2667\n"
     ]
    }
   ],
   "source": [
    "max_input_len = max(len(sen) for sen in input_integer_seq)\n",
    "print(\"Length of longest sentence in input: %g\" % max_input_len)"
   ]
  },
  {
   "cell_type": "code",
   "execution_count": 15,
   "id": "f3227f9b",
   "metadata": {},
   "outputs": [],
   "source": [
    "output_tokenizer = Tokenizer(num_words=MAX_NUM_WORDS, filters='')\n",
    "output_tokenizer.fit_on_texts(output_sentences + output_sentences_inputs)\n",
    "output_integer_seq = output_tokenizer.texts_to_sequences(output_sentences)\n",
    "output_input_integer_seq = output_tokenizer.texts_to_sequences(output_sentences_inputs)"
   ]
  },
  {
   "cell_type": "code",
   "execution_count": 16,
   "id": "9ed701df",
   "metadata": {},
   "outputs": [
    {
     "name": "stdout",
     "output_type": "stream",
     "text": [
      "Total unique words in the output: 3548\n"
     ]
    }
   ],
   "source": [
    "word2idx_outputs = output_tokenizer.word_index\n",
    "print('Total unique words in the output: %s' % len(word2idx_outputs))"
   ]
  },
  {
   "cell_type": "code",
   "execution_count": 17,
   "id": "64585d99",
   "metadata": {},
   "outputs": [
    {
     "name": "stdout",
     "output_type": "stream",
     "text": [
      "Length of longest sentence in the output: 14\n"
     ]
    }
   ],
   "source": [
    "num_words_output = len(word2idx_outputs) + 1\n",
    "max_out_len = max(len(sen) for sen in output_integer_seq)\n",
    "print(\"Length of longest sentence in the output: %g\" % max_out_len)"
   ]
  },
  {
   "cell_type": "code",
   "execution_count": 18,
   "id": "b257b2a2",
   "metadata": {},
   "outputs": [
    {
     "name": "stdout",
     "output_type": "stream",
     "text": [
      "encoder_input_sequences.shape: (10168, 2667)\n",
      "encoder_input_sequences[172]: [   0    0    0 ... 1412    7 4533]\n"
     ]
    }
   ],
   "source": [
    "encoder_input_sequences = pad_sequences(input_integer_seq, maxlen=max_input_len)\n",
    "print(\"encoder_input_sequences.shape:\", encoder_input_sequences.shape)\n",
    "print(\"encoder_input_sequences[172]:\", encoder_input_sequences[172])"
   ]
  },
  {
   "cell_type": "code",
   "execution_count": 19,
   "id": "3a883d53",
   "metadata": {},
   "outputs": [
    {
     "name": "stdout",
     "output_type": "stream",
     "text": [
      "decoder_input_sequences.shape: (10168, 14)\n",
      "decoder_input_sequences[172]: [ 2 17 96  0  0  0  0  0  0  0  0  0  0  0]\n"
     ]
    }
   ],
   "source": [
    "decoder_input_sequences = pad_sequences(output_input_integer_seq, maxlen=max_out_len, padding='post')\n",
    "print(\"decoder_input_sequences.shape:\", decoder_input_sequences.shape)\n",
    "print(\"decoder_input_sequences[172]:\", decoder_input_sequences[172])"
   ]
  },
  {
   "cell_type": "code",
   "execution_count": 20,
   "id": "56d36c5d",
   "metadata": {},
   "outputs": [
    {
     "name": "stdout",
     "output_type": "stream",
     "text": [
      "2\n",
      "169\n",
      "37\n",
      "440\n"
     ]
    }
   ],
   "source": [
    "print(word2idx_outputs[\"<sos>\"])\n",
    "print(word2idx_outputs[\"iterator\"])\n",
    "print(word2idx_outputs[\"has\"])\n",
    "print(word2idx_outputs[\"compute\"])"
   ]
  },
  {
   "cell_type": "markdown",
   "id": "26676d46",
   "metadata": {},
   "source": [
    "# WORD EMBEDDING"
   ]
  },
  {
   "cell_type": "code",
   "execution_count": 21,
   "id": "f3880591",
   "metadata": {},
   "outputs": [],
   "source": [
    "embeddings_dictionary = dict()\n",
    "glove_file = open(r'./glove/glove.6B.100d.txt', encoding=\"utf8\")\n",
    "\n",
    "for line in glove_file:\n",
    "    records = line.split()\n",
    "    word = records[0]\n",
    "    vector_dimensions = asarray(records[1:], dtype='float32')\n",
    "    embeddings_dictionary[word] = vector_dimensions\n",
    "glove_file.close()"
   ]
  },
  {
   "cell_type": "code",
   "execution_count": 22,
   "id": "1280dfa6",
   "metadata": {},
   "outputs": [],
   "source": [
    "num_words = min(MAX_NUM_WORDS, len(word2idx_inputs) + 1)\n",
    "embedding_matrix = zeros((num_words, EMBEDDING_SIZE))\n",
    "\n",
    "for word, index in word2idx_inputs.items():\n",
    "    if index >= MAX_NUM_WORDS:\n",
    "        continue\n",
    "    embedding_vector = embeddings_dictionary.get(word)\n",
    "    if embedding_vector is not None:\n",
    "        embedding_matrix[index] = embedding_vector"
   ]
  },
  {
   "cell_type": "code",
   "execution_count": 23,
   "id": "a9407e31",
   "metadata": {},
   "outputs": [
    {
     "name": "stdout",
     "output_type": "stream",
     "text": [
      "[-2.6383e-01  2.6373e-01 -3.4955e-01  8.3314e-02  9.0819e-01 -4.8935e-02\n",
      " -4.5747e-01 -2.2535e-01  3.0465e-01  3.3276e-01 -4.6850e-01 -2.1108e-01\n",
      " -1.8969e-01 -6.1031e-01 -4.8294e-02 -1.1973e-01  4.2292e-01  5.0670e-01\n",
      " -3.2303e-01  1.6610e-01 -1.5954e-02 -4.8184e-01  4.6411e-01 -5.6109e-01\n",
      " -2.7748e-01 -6.5359e-01 -1.7535e-01 -2.8018e-01 -1.5452e-01 -4.3765e-01\n",
      " -1.8374e-01  7.6467e-01 -5.2114e-01 -5.8212e-01  2.4330e-01 -2.9428e-01\n",
      "  4.9694e-01 -3.4083e-01 -2.6909e-01 -9.0634e-02 -1.0362e-01 -1.6322e-02\n",
      " -7.9197e-01 -6.8050e-01 -2.5711e-01  2.2994e-01  7.4819e-02  1.8185e-01\n",
      " -3.9566e-01 -6.4057e-01 -5.5135e-01 -1.0861e-01 -2.5924e-01  7.7428e-01\n",
      "  4.0590e-01 -2.8124e+00  5.4481e-01 -1.1613e-01  1.5227e+00  1.9011e-01\n",
      "  3.1080e-02  8.9708e-01 -2.2949e-01 -7.3137e-02  9.6343e-01  4.2938e-04\n",
      "  3.3437e-01  2.0522e-01  3.5985e-01 -9.3257e-01  7.3966e-01 -1.7801e-01\n",
      " -3.8467e-01 -4.3444e-01  4.3006e-01  4.8868e-02 -7.8963e-02 -7.3633e-02\n",
      " -6.5398e-01  4.0146e-01  6.2592e-01 -2.9576e-02 -3.3386e-01  3.4614e-01\n",
      " -1.1142e+00  6.8437e-01  5.6213e-01  1.7745e-01 -9.8425e-03  1.1455e-01\n",
      "  3.5228e-01  8.0023e-02 -2.5830e-01 -9.9062e-01  1.6343e-01 -4.7097e-01\n",
      " -6.2209e-02 -6.6947e-01  5.9345e-01  1.5684e-01]\n"
     ]
    }
   ],
   "source": [
    "print(embeddings_dictionary[\"create\"])"
   ]
  },
  {
   "cell_type": "code",
   "execution_count": 24,
   "id": "d58ce001",
   "metadata": {},
   "outputs": [
    {
     "name": "stdout",
     "output_type": "stream",
     "text": [
      "[-0.33151999  0.058314    0.15604    -0.41563001 -0.98655999  1.34399998\n",
      "  0.42739999  0.087866   -0.069399   -0.42807001  0.22164001  0.028742\n",
      " -0.75870001  0.29437    -0.0038715  -0.46090001  0.98430997  0.17511\n",
      "  0.12587     0.76077002 -1.12220001  0.40351999 -0.25479999  0.32334\n",
      "  0.085255   -0.63966    -0.42072999  0.27932999  0.47734001  0.79558003\n",
      "  0.08907    -0.24346     0.24969     0.51015002 -0.31711     0.58497\n",
      "  0.71963     0.59267998  0.25725999 -0.85312003  0.89481997 -0.20599\n",
      "  0.84898001 -0.13798    -0.51517999  0.33928999 -0.40002    -0.28176999\n",
      "  0.24051     0.23650999 -0.073356    0.33745    -0.84473002  0.0035665\n",
      " -0.24608    -0.39043    -0.48958001  0.85439998 -0.40590999 -0.31503999\n",
      " -0.074068   -0.017707   -0.3461     -0.11669     0.24702001 -0.73080999\n",
      "  0.24682    -0.57183999  0.57960999  0.51990002  0.42667001 -0.51950997\n",
      " -0.01364    -0.51003999 -0.4269     -0.061019   -0.48543999  0.43711001\n",
      "  0.12175     0.50954002  0.48659    -0.96977001 -0.47679999  0.31786999\n",
      "  0.14956     0.54844999 -0.077369   -0.71079999  0.21417999 -0.82135999\n",
      "  0.091301    0.10896    -0.052954    0.34474999  0.31814    -0.0027947\n",
      " -0.66995001 -0.35824001 -0.33414999 -0.10024   ]\n"
     ]
    }
   ],
   "source": [
    "print(embedding_matrix[540])"
   ]
  },
  {
   "cell_type": "code",
   "execution_count": 25,
   "id": "20294d32",
   "metadata": {},
   "outputs": [],
   "source": [
    "embedding_layer = Embedding(num_words, EMBEDDING_SIZE, weights=[embedding_matrix], input_length=max_input_len)"
   ]
  },
  {
   "cell_type": "code",
   "execution_count": 26,
   "id": "f6fa918b",
   "metadata": {},
   "outputs": [],
   "source": [
    "decoder_targets_one_hot = np.zeros((\n",
    "        len(input_sentences),\n",
    "        max_out_len,\n",
    "        num_words_output\n",
    "    ),\n",
    "    dtype='float32'\n",
    ")"
   ]
  },
  {
   "cell_type": "code",
   "execution_count": 27,
   "id": "edaef1c4",
   "metadata": {},
   "outputs": [
    {
     "data": {
      "text/plain": [
       "(10168, 14, 3549)"
      ]
     },
     "execution_count": 27,
     "metadata": {},
     "output_type": "execute_result"
    }
   ],
   "source": [
    "decoder_targets_one_hot.shape"
   ]
  },
  {
   "cell_type": "code",
   "execution_count": 28,
   "id": "8a85c710",
   "metadata": {},
   "outputs": [],
   "source": [
    "for i, d in enumerate(decoder_input_sequences):\n",
    "    for t, word in enumerate(d):\n",
    "        decoder_targets_one_hot[i, t, word] = 1"
   ]
  },
  {
   "cell_type": "code",
   "execution_count": 29,
   "id": "2c508deb",
   "metadata": {},
   "outputs": [],
   "source": [
    "encoder_inputs_placeholder = Input(shape=(max_input_len,))\n",
    "x = embedding_layer(encoder_inputs_placeholder)\n",
    "encoder = LSTM(LSTM_NODES, return_state=True)\n",
    "\n",
    "encoder_outputs, h, c = encoder(x)\n",
    "encoder_states = [h, c]"
   ]
  },
  {
   "cell_type": "code",
   "execution_count": 30,
   "id": "f1589ac9",
   "metadata": {},
   "outputs": [],
   "source": [
    "decoder_inputs_placeholder = Input(shape=(max_out_len,))\n",
    "\n",
    "decoder_embedding = Embedding(num_words_output, LSTM_NODES)\n",
    "decoder_inputs_x = decoder_embedding(decoder_inputs_placeholder)\n",
    "\n",
    "decoder_lstm = LSTM(LSTM_NODES, return_sequences=True, return_state=True)\n",
    "decoder_outputs, _, _ = decoder_lstm(decoder_inputs_x, initial_state=encoder_states)"
   ]
  },
  {
   "cell_type": "code",
   "execution_count": 31,
   "id": "f017a447",
   "metadata": {},
   "outputs": [],
   "source": [
    "decoder_dense = Dense(num_words_output, activation='softmax')\n",
    "decoder_outputs = decoder_dense(decoder_outputs)"
   ]
  },
  {
   "cell_type": "code",
   "execution_count": 33,
   "id": "1997d6a6",
   "metadata": {},
   "outputs": [],
   "source": [
    "import keras_metrics"
   ]
  },
  {
   "cell_type": "code",
   "execution_count": 38,
   "id": "0d46ca87",
   "metadata": {},
   "outputs": [],
   "source": [
    "model = Model([encoder_inputs_placeholder,\n",
    "  decoder_inputs_placeholder], decoder_outputs)\n",
    "model.compile(\n",
    "    optimizer='rmsprop',\n",
    "    loss='categorical_crossentropy',\n",
    "    metrics=['accuracy'],\n",
    ")"
   ]
  },
  {
   "cell_type": "code",
   "execution_count": 39,
   "id": "cfcfb72a",
   "metadata": {},
   "outputs": [],
   "source": [
    "from keras.utils import plot_model"
   ]
  },
  {
   "cell_type": "code",
   "execution_count": 40,
   "id": "e65ee82c",
   "metadata": {},
   "outputs": [
    {
     "data": {
      "image/png": "[encoded data removed]",
      "text/plain": [
       "<IPython.core.display.Image object>"
      ]
     },
     "execution_count": 40,
     "metadata": {},
     "output_type": "execute_result"
    }
   ],
   "source": [
    "plot_model(model, to_file='model_plot4a.png', show_shapes=True, show_layer_names=True)"
   ]
  },
  {
   "cell_type": "code",
   "execution_count": 41,
   "id": "8e8f8149",
   "metadata": {},
   "outputs": [
    {
     "name": "stdout",
     "output_type": "stream",
     "text": [
      "Epoch 1/5\n",
      "143/143 [==============================] - 305s 2s/step - loss: 2.5894 - accuracy: 0.7635 - val_loss: 1.3961 - val_accuracy: 0.8172\n",
      "Epoch 2/5\n",
      "143/143 [==============================] - 285s 2s/step - loss: 1.2162 - accuracy: 0.8231 - val_loss: 1.1873 - val_accuracy: 0.8176\n",
      "Epoch 3/5\n",
      "143/143 [==============================] - 299s 2s/step - loss: 1.0779 - accuracy: 0.8305 - val_loss: 1.0950 - val_accuracy: 0.8300\n",
      "Epoch 4/5\n",
      "143/143 [==============================] - 294s 2s/step - loss: 1.0026 - accuracy: 0.8383 - val_loss: 1.0394 - val_accuracy: 0.8356\n",
      "Epoch 5/5\n",
      "143/143 [==============================] - 280s 2s/step - loss: 0.9472 - accuracy: 0.8450 - val_loss: 0.9987 - val_accuracy: 0.8437\n"
     ]
    }
   ],
   "source": [
    "r = model.fit(\n",
    "    [encoder_input_sequences, decoder_input_sequences],\n",
    "    decoder_targets_one_hot,\n",
    "    batch_size=BATCH_SIZE,\n",
    "    epochs=EPOCHS,\n",
    "    validation_split=0.1,\n",
    ")"
   ]
  },
  {
   "cell_type": "code",
   "execution_count": 42,
   "id": "7e8218c1",
   "metadata": {},
   "outputs": [],
   "source": [
    "encoder_model = Model(encoder_inputs_placeholder, encoder_states)"
   ]
  },
  {
   "cell_type": "code",
   "execution_count": 43,
   "id": "06b5c2fb",
   "metadata": {},
   "outputs": [],
   "source": [
    "decoder_state_input_h = Input(shape=(LSTM_NODES,))\n",
    "decoder_state_input_c = Input(shape=(LSTM_NODES,))\n",
    "decoder_states_inputs = [decoder_state_input_h, decoder_state_input_c]"
   ]
  },
  {
   "cell_type": "code",
   "execution_count": 44,
   "id": "1620a0f0",
   "metadata": {},
   "outputs": [],
   "source": [
    "decoder_inputs_single = Input(shape=(1,))\n",
    "decoder_inputs_single_x = decoder_embedding(decoder_inputs_single)"
   ]
  },
  {
   "cell_type": "code",
   "execution_count": 45,
   "id": "ac416a1d",
   "metadata": {},
   "outputs": [],
   "source": [
    "decoder_outputs, h, c = decoder_lstm(decoder_inputs_single_x, initial_state=decoder_states_inputs)"
   ]
  },
  {
   "cell_type": "code",
   "execution_count": 46,
   "id": "4b237444",
   "metadata": {},
   "outputs": [],
   "source": [
    "decoder_states = [h, c]\n",
    "decoder_outputs = decoder_dense(decoder_outputs)"
   ]
  },
  {
   "cell_type": "code",
   "execution_count": 47,
   "id": "941af14a",
   "metadata": {},
   "outputs": [],
   "source": [
    "decoder_model = Model(\n",
    "    [decoder_inputs_single] + decoder_states_inputs,\n",
    "    [decoder_outputs] + decoder_states\n",
    ")"
   ]
  },
  {
   "cell_type": "code",
   "execution_count": 48,
   "id": "b13abf48",
   "metadata": {},
   "outputs": [
    {
     "data": {
      "image/png": "[encoded data removed]",
      "text/plain": [
       "<IPython.core.display.Image object>"
      ]
     },
     "execution_count": 48,
     "metadata": {},
     "output_type": "execute_result"
    }
   ],
   "source": [
    "plot_model(decoder_model, to_file='model_plot_dec.png', show_shapes=True, show_layer_names=True)"
   ]
  },
  {
   "cell_type": "markdown",
   "id": "ceb50ea7",
   "metadata": {},
   "source": [
    "# Prediction"
   ]
  },
  {
   "cell_type": "code",
   "execution_count": 49,
   "id": "6f61d0f5",
   "metadata": {},
   "outputs": [],
   "source": [
    "idx2word_input = {v:k for k, v in word2idx_inputs.items()}\n",
    "idx2word_target = {v:k for k, v in word2idx_outputs.items()}"
   ]
  },
  {
   "cell_type": "code",
   "execution_count": 50,
   "id": "bfa89611",
   "metadata": {},
   "outputs": [],
   "source": [
    "def return_method_sentence(input_seq):\n",
    "    states_value = encoder_model.predict(input_seq)\n",
    "    target_seq = np.zeros((1, 1))\n",
    "    target_seq[0, 0] = word2idx_outputs['<sos>']\n",
    "    eos = word2idx_outputs['<eos>']\n",
    "    output_sentence = []\n",
    "\n",
    "    for _ in range(max_out_len):\n",
    "        output_tokens, h, c = decoder_model.predict([target_seq] + states_value)\n",
    "        idx = np.argmax(output_tokens[0, 0, :])\n",
    "\n",
    "        if eos == idx:\n",
    "            break\n",
    "\n",
    "        word = ''\n",
    "\n",
    "        if idx > 0:\n",
    "            word = idx2word_target[idx]\n",
    "            output_sentence.append(word)\n",
    "\n",
    "        target_seq[0, 0] = idx\n",
    "        states_value = [h, c]\n",
    "\n",
    "    return ' '.join(output_sentence)"
   ]
  },
  {
   "cell_type": "markdown",
   "id": "c1883608",
   "metadata": {},
   "source": [
    "# Testing Model"
   ]
  },
  {
   "cell_type": "code",
   "execution_count": 54,
   "id": "c88ddc2c",
   "metadata": {},
   "outputs": [
    {
     "name": "stdout",
     "output_type": "stream",
     "text": [
      "1/1 [==============================] - 0s 121ms/step\n",
      "1/1 [==============================] - 0s 26ms/step\n",
      "1/1 [==============================] - 0s 24ms/step\n",
      "1/1 [==============================] - 0s 22ms/step\n",
      "1/1 [==============================] - 0s 26ms/step\n",
      "1/1 [==============================] - 0s 25ms/step\n",
      "1/1 [==============================] - 0s 24ms/step\n",
      "1/1 [==============================] - 0s 22ms/step\n",
      "1/1 [==============================] - 0s 23ms/step\n",
      "1/1 [==============================] - 0s 27ms/step\n",
      "1/1 [==============================] - 0s 23ms/step\n",
      "1/1 [==============================] - 0s 22ms/step\n",
      "1/1 [==============================] - 0s 23ms/step\n",
      "1/1 [==============================] - 0s 24ms/step\n",
      "1/1 [==============================] - 0s 25ms/step\n"
     ]
    }
   ],
   "source": [
    "i = np.random.choice(len(data.code))\n",
    "input_seq = encoder_input_sequences[i:i+1]\n",
    "translation = return_method_sentence(input_seq)"
   ]
  },
  {
   "cell_type": "code",
   "execution_count": 72,
   "id": "c2d3022f",
   "metadata": {},
   "outputs": [],
   "source": [
    "kelimeler = translation.split()"
   ]
  },
  {
   "cell_type": "code",
   "execution_count": 73,
   "id": "40d03dc5",
   "metadata": {},
   "outputs": [],
   "source": [
    "for i in range(len(kelimeler)):\n",
    "    if kelimeler[i] == \"<sos>\":\n",
    "        kelimeler.pop(i)\n",
    "        kelimeler.insert(i, \"\")\n",
    "        break"
   ]
  },
  {
   "cell_type": "code",
   "execution_count": 74,
   "id": "491231c9",
   "metadata": {},
   "outputs": [
    {
     "data": {
      "text/plain": [
       "['', 'is', 'to', 'string', 'string']"
      ]
     },
     "execution_count": 74,
     "metadata": {},
     "output_type": "execute_result"
    }
   ],
   "source": [
    "kelimeler"
   ]
  },
  {
   "cell_type": "code",
   "execution_count": 75,
   "id": "b7d24d50",
   "metadata": {},
   "outputs": [],
   "source": [
    "benzersiz_kelimeler = list(set(kelimeler))"
   ]
  },
  {
   "cell_type": "code",
   "execution_count": 83,
   "id": "a5a8dc4c",
   "metadata": {},
   "outputs": [
    {
     "data": {
      "text/plain": [
       "['', 'to', 'is', 'string']"
      ]
     },
     "execution_count": 83,
     "metadata": {},
     "output_type": "execute_result"
    }
   ],
   "source": [
    "benzersiz_kelimeler"
   ]
  },
  {
   "cell_type": "code",
   "execution_count": 76,
   "id": "a4314e14",
   "metadata": {},
   "outputs": [],
   "source": [
    "yeni_string = \"_\".join(benzersiz_kelimeler)"
   ]
  },
  {
   "cell_type": "code",
   "execution_count": 82,
   "id": "6159780c",
   "metadata": {},
   "outputs": [
    {
     "name": "stdout",
     "output_type": "stream",
     "text": [
      "-\n",
      "Input: public class Main\n",
      "{\n",
      "public final String toString(){\n",
      "  if (this.initialized == false) {\n",
      "    return null;\n",
      "  }\n",
      "  return paramSpi.engineToString();\n",
      "}\n",
      "}\n",
      "Response:to_is_string\n"
     ]
    }
   ],
   "source": [
    "print('-')\n",
    "print('Input:', data.code[985])\n",
    "print(\"Response:\" + yeni_string[1:])"
   ]
  }
 ],
 "metadata": {
  "kernelspec": {
   "display_name": "Python 3 (ipykernel)",
   "language": "python",
   "name": "python3"
  },
  "language_info": {
   "codemirror_mode": {
    "name": "ipython",
    "version": 3
   },
   "file_extension": ".py",
   "mimetype": "text/x-python",
   "name": "python",
   "nbconvert_exporter": "python",
   "pygments_lexer": "ipython3",
   "version": "3.9.13"
  }
 },
 "nbformat": 4,
 "nbformat_minor": 5
}
