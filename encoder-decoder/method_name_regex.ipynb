{
 "cells": [
  {
   "cell_type": "code",
   "execution_count": 1,
   "id": "bff5b805",
   "metadata": {},
   "outputs": [],
   "source": [
    "import re\n",
    "import pandas as pd"
   ]
  },
  {
   "cell_type": "code",
   "execution_count": 2,
   "id": "a2b28b2a",
   "metadata": {},
   "outputs": [],
   "source": [
    "def split_camel_case(s):\n",
    "    s = re.sub('([a-z0-9])([A-Z])', r'\\1 \\2', s)\n",
    "    s = s.replace('_', ' ')\n",
    "    return s"
   ]
  },
  {
   "cell_type": "code",
   "execution_count": 3,
   "id": "9406f221",
   "metadata": {},
   "outputs": [],
   "source": [
    "data = pd.read_csv('./preprocessed_dataset_with_custom_embeddings.csv')"
   ]
  },
  {
   "cell_type": "code",
   "execution_count": 4,
   "id": "08aa5597",
   "metadata": {},
   "outputs": [
    {
     "name": "stdout",
     "output_type": "stream",
     "text": [
      "<class 'pandas.core.frame.DataFrame'>\n",
      "RangeIndex: 10168 entries, 0 to 10167\n",
      "Data columns (total 11 columns):\n",
      " #   Column               Non-Null Count  Dtype  \n",
      "---  ------               --------------  -----  \n",
      " 0   code                 10168 non-null  object \n",
      " 1   comment              10168 non-null  object \n",
      " 2   tokens               10168 non-null  object \n",
      " 3   code_embedding       10168 non-null  object \n",
      " 4   function_calls       10168 non-null  object \n",
      " 5   is_constructor       10168 non-null  bool   \n",
      " 6   parameter_count      10168 non-null  int64  \n",
      " 7   method_name          10168 non-null  object \n",
      " 8   return_type          4615 non-null   object \n",
      " 9   method_name_length   10168 non-null  int64  \n",
      " 10  return_type_numeric  4615 non-null   float64\n",
      "dtypes: bool(1), float64(1), int64(2), object(7)\n",
      "memory usage: 804.4+ KB\n"
     ]
    }
   ],
   "source": [
    "data.info()"
   ]
  },
  {
   "cell_type": "code",
   "execution_count": 5,
   "id": "75c9b18f",
   "metadata": {},
   "outputs": [],
   "source": [
    "data[\"method_name_string\"] = data[\"method_name\"].apply(split_camel_case)"
   ]
  },
  {
   "cell_type": "code",
   "execution_count": 6,
   "id": "da819eb1",
   "metadata": {},
   "outputs": [
    {
     "name": "stdout",
     "output_type": "stream",
     "text": [
      "<class 'pandas.core.frame.DataFrame'>\n",
      "RangeIndex: 10168 entries, 0 to 10167\n",
      "Data columns (total 12 columns):\n",
      " #   Column               Non-Null Count  Dtype  \n",
      "---  ------               --------------  -----  \n",
      " 0   code                 10168 non-null  object \n",
      " 1   comment              10168 non-null  object \n",
      " 2   tokens               10168 non-null  object \n",
      " 3   code_embedding       10168 non-null  object \n",
      " 4   function_calls       10168 non-null  object \n",
      " 5   is_constructor       10168 non-null  bool   \n",
      " 6   parameter_count      10168 non-null  int64  \n",
      " 7   method_name          10168 non-null  object \n",
      " 8   return_type          4615 non-null   object \n",
      " 9   method_name_length   10168 non-null  int64  \n",
      " 10  return_type_numeric  4615 non-null   float64\n",
      " 11  method_name_string   10168 non-null  object \n",
      "dtypes: bool(1), float64(1), int64(2), object(8)\n",
      "memory usage: 883.9+ KB\n"
     ]
    }
   ],
   "source": [
    "data.info()"
   ]
  },
  {
   "cell_type": "code",
   "execution_count": 7,
   "id": "9b56a76e",
   "metadata": {},
   "outputs": [
    {
     "data": {
      "text/plain": [
       "0             block List\n",
       "1    with Callback Index\n",
       "2      generate Response\n",
       "3       Principal Holder\n",
       "4               generate\n",
       "Name: method_name_string, dtype: object"
      ]
     },
     "execution_count": 7,
     "metadata": {},
     "output_type": "execute_result"
    }
   ],
   "source": [
    "data.method_name_string.head()"
   ]
  },
  {
   "cell_type": "code",
   "execution_count": 8,
   "id": "b802bb97",
   "metadata": {},
   "outputs": [],
   "source": [
    "data.to_csv(\"./preprocessed_dataset_with_regex.csv\", index=False)"
   ]
  },
  {
   "cell_type": "code",
   "execution_count": null,
   "id": "fa8ba1eb",
   "metadata": {},
   "outputs": [],
   "source": []
  }
 ],
 "metadata": {
  "kernelspec": {
   "display_name": "Python 3 (ipykernel)",
   "language": "python",
   "name": "python3"
  },
  "language_info": {
   "codemirror_mode": {
    "name": "ipython",
    "version": 3
   },
   "file_extension": ".py",
   "mimetype": "text/x-python",
   "name": "python",
   "nbconvert_exporter": "python",
   "pygments_lexer": "ipython3",
   "version": "3.9.13"
  }
 },
 "nbformat": 4,
 "nbformat_minor": 5
}
